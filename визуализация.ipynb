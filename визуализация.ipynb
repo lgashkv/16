import matplotlib.pyplot as plt
import pandas as pd
df = pd.read_csv('C:\\Users\\Ольга\\Downloads\\2019.csv')
df

df = df.rename(columns={'Country or region': 'Country','GDP per capita': 'GDP_per_capita'})
_______________________________
top_countries = df[['Country', 'Score']].groupby(by='Country').sum().sort_values(by='Score', ascending=False).head(10)
ax = top_countries.plot(kind='barh'),plt.xlabel('Оценка'),plt.title('Топ стран по уровню счастья')
plt.xlim(7.2, 7.8)
ax
_______________________________________
mean_values = df[['GDP_per_capita','Social support','Healthy life expectancy','Freedom to make life choices','Generosity','Perceptions of corruption']].mean()
ax = mean_values.plot(kind='pie'),plt.title('Средняя оценка  в мире по категориям')
ax

_____________________________
max_GDP_per_capita = df[['Country', 'GDP_per_capita']].sort_values(by='GDP_per_capita', ascending=False).head(1)
max_Social_support = df[['Country', 'Social support']].sort_values(by='Social support', ascending=False).head(1)
max_Hle = df[['Country', 'Healthy life expectancy']].sort_values(by='Healthy life expectancy', ascending=False).head(1)
max_Ftmlc = df[['Country', 'Freedom to make life choices']].sort_values(by='Freedom to make life choices', ascending=False).head(1)
max_Generosity = df[['Country', 'Generosity']].sort_values(by='Generosity', ascending=False).head(1)
max_Poc = df[['Country', 'Perceptions of corruption']].sort_values(by='Perceptions of corruption', ascending=False).head(1)
max_ozenka = pd.concat([max_GDP_per_capita ,max_Social_support,max_Hle,max_Ftmlc,max_Generosity,max_Poc])
max_ozenka.set_index('Country', inplace=True)


ax = max_ozenka.plot(kind='bar'),plt.xlabel('Максимальная оценка'),plt.title('Максимальная оценка по градациям')
plt.xticks(rotation=60, horizontalalignment='right',fontsize=10)
ax

____________________________
df_all = df[['Country', 'GDP_per_capita', 'Social support','Healthy life expectancy', 'Freedom to make life choices','Generosity','Perceptions of corruption']].head(15)
df_all.set_index('Country', inplace=True)
df_all.plot(kind='area', stacked=False)
plt.xlabel('Страна')
plt.ylabel('Оценка')
plt.title('Оценка категорий по уровню счастья',fontdict={'size':12})
plt.xticks(rotation=60, horizontalalignment='right', fontsize=10)

